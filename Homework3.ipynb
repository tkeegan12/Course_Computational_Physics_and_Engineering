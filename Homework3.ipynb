{
 "cells": [
  {
   "cell_type": "markdown",
   "id": "a1f2283c",
   "metadata": {},
   "source": [
    "# Homework 3\n",
    "\n",
    "\n",
    "Please follow the guidelines in Sec ***9. Homework Projects*** of the Syllabus. \n",
    "\n",
    "Homework projects must be submitted via Canvas as a *working* Jupyter notebook.\n",
    "\n",
    "## Question 1\n",
    "\n",
    "\n",
    "The following [Poisson's equation](https://en.wikipedia.org/wiki/Poisson%27s_equation) in 1D\n",
    "$$\n",
    "    \\frac{d^2}{dx^2} \\phi(x) = 2\\exp(-x^2),\n",
    "$$\n",
    "has the exact solution\n",
    "$$\n",
    "    \\phi(x) = \\sqrt{\\pi}\\, {\\rm erf}\\, (x) x + \\exp(-x^2) + C_1 x + C_2,\n",
    "$$\n",
    "where ${\\rm erf}$ is [the error function](http://dlmf.nist.gov/7.2.i) implemented in the library [SpecialFunctions.jl](https://specialfunctions.juliamath.org/v0.1/), $C_1$ and $C_2$ are arbitrary constants. \n",
    "\n",
    "\n",
    "1) Numerically solve this Poisson's equation equation by using the central finite-difference method.\n",
    "2) What values of the constants $C_1$ and $C_2$ should be chosen so that the obtained numerical solutions closely overlaps (on the plot) with the exact solution?\n",
    "\n",
    "\n",
    "**Note:**\n",
    "\n",
    "In Julia, to find the unknown vector $x$ in the linear system of equations $Ax = y$, we use the command `A \\ y`.\n",
    "\n",
    "Consider the following example: Let's say the matrix $A$ is defied as"
   ]
  },
  {
   "cell_type": "code",
   "execution_count": 1,
   "id": "e1b8eb1f",
   "metadata": {},
   "outputs": [
    {
     "data": {
      "text/plain": [
       "2×2 Matrix{Int64}:\n",
       " 1  2\n",
       " 3  4"
      ]
     },
     "execution_count": 1,
     "metadata": {},
     "output_type": "execute_result"
    }
   ],
   "source": [
    "A = [1 2; 3 4]"
   ]
  },
  {
   "cell_type": "markdown",
   "id": "b49137da",
   "metadata": {},
   "source": [
    "Let's say the known vector $y$ reads as"
   ]
  },
  {
   "cell_type": "code",
   "execution_count": 2,
   "id": "25698302",
   "metadata": {},
   "outputs": [
    {
     "data": {
      "text/plain": [
       "2-element Vector{Int64}:\n",
       " 2\n",
       " 4"
      ]
     },
     "execution_count": 2,
     "metadata": {},
     "output_type": "execute_result"
    }
   ],
   "source": [
    "y = [2; 4]"
   ]
  },
  {
   "cell_type": "markdown",
   "id": "1a09c240",
   "metadata": {},
   "source": [
    "Then, the unknown $x$ is "
   ]
  },
  {
   "cell_type": "code",
   "execution_count": 3,
   "id": "8d6dd737",
   "metadata": {},
   "outputs": [
    {
     "data": {
      "text/plain": [
       "2-element Vector{Float64}:\n",
       " 0.0\n",
       " 1.0"
      ]
     },
     "execution_count": 3,
     "metadata": {},
     "output_type": "execute_result"
    }
   ],
   "source": [
    "A \\ y"
   ]
  },
  {
   "cell_type": "code",
   "execution_count": null,
   "id": "9c67e47a",
   "metadata": {},
   "outputs": [],
   "source": []
  },
  {
   "cell_type": "markdown",
   "id": "8ef9d778",
   "metadata": {},
   "source": [
    "## Question 2\n",
    "\n",
    "In [class](https://wavetulane-my.sharepoint.com/:o:/g/personal/dbondar_tulane_edu/EjZjkvTFp4tNrthBttdxEJQBwxTUBJotcnkl_vWWOoY_XA?e=AjzyDr), using the central finite difference approximation, we have derived the matrix representation of the time independent Schrödinger equation with the boundary conditions that the wave function vanishes outside of the coordinate grid, i.e., $\\psi(x_{0}) = \\psi(x_{N+1}) = 0$.\n",
    "\n",
    "Derive the matrix representation of the time independent Schrödinger equation with the periodic boundary condition, i.e., $\\psi(a) = \\psi(b)$ and $\\psi'(a) = \\psi'(b)$.\n",
    "\n",
    "**Note**\n",
    "\n",
    "The first condition is discretized as \n",
    "$$\n",
    "  \\psi(a) = \\psi(b) \\Longrightarrow \\psi(x_0) = \\psi(x_N).\n",
    "$$\n",
    "\n",
    "Whereas, the second condition is discretized as \n",
    "$$\n",
    "    \\psi'(a) = \\psi'(b) \\Longrightarrow\n",
    "$$\n",
    "\n",
    "$$\n",
    "    \\frac{\\psi(x_1) - \\psi(x_0)}{\\Delta x} = \\frac{\\psi(x_{N+1}) - \\psi(x_{N})}{\\Delta x}\n",
    "    \\Longrightarrow\n",
    "$$\n",
    "$$\n",
    "    \\psi(x_1) - \\psi(x_N) = \\psi(x_{N+1}) - \\psi(x_{N})\n",
    "    \\Longrightarrow\n",
    "$$\n",
    "$$\n",
    "    \\psi(x_1) = \\psi(x_{N+1}).\n",
    "$$"
   ]
  },
  {
   "cell_type": "markdown",
   "id": "01d59959",
   "metadata": {},
   "source": [
    "## Question 3\n",
    "\n",
    "Using the derived matrix in the previous question, numerically find the eigenenergies of the Schrödinger equation for a particle in the box with the periodic boundary condition and $a=0$ and $b=1$. \n",
    "\n",
    "By plotting, compare the numerically obtained result with the exact energies $E_n = 2 (\\pi n)^2$, where $n=0, \\pm 1, \\pm 2, \\pm 3, \\ldots$.\n",
    "\n",
    "**Note** that for the periodic boundary conditions, the coordinate grid needs to be chosen differently that for the particle-in-the-box case (i.e., not like `range(a, b, N)`). The accurate choice is\n",
    "\n",
    "$$\n",
    "    x_m = a + (m - 1)(b - a) / N, \\qquad m =1,2, \\ldots N.\n",
    "$$\n",
    "Note that $x_N < b$! Ask me (Denys Bondar) if you want to know why exactly it should be done this way."
   ]
  },
  {
   "cell_type": "code",
   "execution_count": null,
   "id": "4a12432e",
   "metadata": {},
   "outputs": [],
   "source": []
  },
  {
   "cell_type": "markdown",
   "id": "47f473ac",
   "metadata": {},
   "source": [
    "## Question 4: extra credit for 3170, required for 6170\n",
    "\n",
    "In condensed matter physics, electronic properties of crystals are modeled by solving the time-independent Schrödinger equation with a periodic potential. According to the 1D version of [the Bloch’s theorem](https://en.wikipedia.org/wiki/Bloch%27s_theorem), the solution $\\psi(x)$ of the Schrödinger equation for a periodic potential $U(x + L) = U(x)$ is of the form\n",
    "$$\n",
    "\\psi(x) = e^{ikx} u(x),\n",
    "$$\n",
    "where $u(x + L) = u(x)$ is a periodic function and the real parameter $k$ is called the crystal momentum vector.\n",
    "\n",
    "If this form for $\\psi(x)$ is substituted back into the Schrödinger equation, we obtain (see [the derivation here](https://en.wikipedia.org/wiki/Bloch%27s_theorem)):\n",
    "$$\n",
    " \\left[\\frac{1}{2} \\left(-i\\frac{d}{dx} + k\\right)^2 + U(x) \\right] u_n(x) = E_n(k) u_n(x).\n",
    "$$\n",
    "Note that $k$ became just a real parameter. \n",
    "\n",
    "In other words, to find the electronic bands $E_n(k)$, where $n$ is known as the band index and $-\\pi / L \\leq k \\leq\\pi / L$ (this range of $k$ is known as the first Brillouin zone in 1D), we need to find the eigenenergies  for the following Schrödinger equation with the periodic boundary condition\n",
    "\n",
    "$$\n",
    " \\left[-\\frac{1}{2}\\frac{d^2}{dx^2} -ik\\frac{d}{dx}  + \\frac{k^2}{2} + U(x) \\right] u_n(x) = E_n(k) u_n(x).\n",
    " \\qquad\\qquad \\mbox{(1)}\n",
    "$$\n",
    "\n",
    "Your task is to use the central finite difference method to calculate $E_n(k)$ as a function of $k$ for $n=1$ and $n=2$. $U(x)=\\cos(x)$, $0 \\leq x < L$, and $L=2\\pi$. Plot  these $E_{1,2}(k)$.\n",
    "\n",
    "**Hint**: For every value of $k$ in the interval $[-\\pi/L, \\pi/L]$ you need to find the first two eigenvalues of equation (1). Also recall that\n",
    "\n",
    "$$\n",
    "[ f(x+\\Delta x/2) - f(x-\\Delta x/2) ] / \\Delta x = f'(x) + O\\left( \\Delta x^2 \\right)\n",
    "$$\n",
    "$$\n",
    "\\Longrightarrow \\frac{f(x+\\Delta x) - f(x-\\Delta x)}{2\\Delta x} = f'(x) + O\\left( \\Delta x^2 \\right).\n",
    "$$"
   ]
  },
  {
   "cell_type": "code",
   "execution_count": null,
   "id": "0e73650a",
   "metadata": {},
   "outputs": [],
   "source": []
  },
  {
   "cell_type": "markdown",
   "id": "b6cd06a7",
   "metadata": {},
   "source": [
    "## Question 5: extra credit for 3170, required for 6170\n",
    "\n",
    "Using the same system as in Question 4, we will seek the numerical solution of equation (1) by expanding the unknown eigenfunction $u(x)$ (we drop the band index $n$ for convenience) into the following basis\n",
    "$$\n",
    "u(x) = \\sum_{q=-\\infty}^{\\infty} a_q f_q(x), \\qquad f_q(x) = \\frac{\\exp(ixq)}{\\sqrt{2\\pi}}.\n",
    " \\qquad\\qquad \\mbox{(2)}\n",
    "$$\n",
    "This representation is known as [the Fourier series](https://en.wikipedia.org/wiki/Fourier_series). It is very easy to see that for such a representation  the function $u(x)$ is indeed periodic $u(x + L) = u(x)$ with the period $L=2\\pi$. \n",
    "\n",
    "\n",
    "Note that the orthogonality condition for the basis $\\{f_q(x)\\}$ reads\n",
    "$$\n",
    "    \\int_0^{2\\pi} f_m(x)^* f_q(x) dx = \\delta_{m, q},\n",
    "$$\n",
    "where $\\delta_{m, q}$ is [the Kronecker delta](https://en.wikipedia.org/wiki/Kronecker_delta).\n",
    "\n",
    "Following the logic of [in-class derivation](https://wavetulane-my.sharepoint.com/:o:/g/personal/dbondar_tulane_edu/EjZjkvTFp4tNrthBttdxEJQBwxTUBJotcnkl_vWWOoY_XA?e=AjzyDr), derive the ***analytical*** expression for the matrix representation of the Hamiltonian in equation (1).\n",
    "\n",
    "**Hint:**\n",
    "$$\n",
    "    KE_{m,q} = \\int_0^{2\\pi} f_m(x)^* \\left(-\\frac{1}{2}\\frac{d^2}{dx^2} -ik\\frac{d}{dx}  + \\frac{k^2}{2} \\right) f_q(x) dx.\n",
    "$$\n",
    "\n",
    "$$\n",
    "    PE_{m,q} = \\int_0^{2\\pi} f_m(x)^* \\cos(x) f_q(x) dx.\n",
    "$$\n",
    "The latter integral is very easy to calculate analytically by expressing $\\cos$ though $\\exp$."
   ]
  },
  {
   "cell_type": "code",
   "execution_count": null,
   "id": "1333707a",
   "metadata": {},
   "outputs": [],
   "source": []
  },
  {
   "cell_type": "markdown",
   "id": "ca2968e4",
   "metadata": {},
   "source": [
    "## Question 6: extra credit for 3170, required for 6170\n",
    "\n",
    "Using the matrix representation of the Hamiltonian obtain in the previous question, numerically calculate the electronic bands $E_{1,2}(k)$. Make a plot of $E_1(k)$ and the first band calculated via the finite difference in Question 4. Also plot of $E_2(k)$ and the second band calculated via the finite difference in Question 4.\n",
    "\n",
    "**Hint:** To get a finite matrix, we need to truncate the series (2) as \n",
    "$$\n",
    "u(x) = \\sum_{q=-N}^{N} a_q f_q(x).\n",
    "$$\n",
    "\n",
    "The results obtained via this basis expansion method and central finite difference (Question 4) should coincide if calculations are converged."
   ]
  },
  {
   "cell_type": "code",
   "execution_count": null,
   "id": "d7116f90",
   "metadata": {},
   "outputs": [],
   "source": []
  }
 ],
 "metadata": {
  "kernelspec": {
   "display_name": "Julia 1.8.5",
   "language": "julia",
   "name": "julia-1.8"
  },
  "language_info": {
   "file_extension": ".jl",
   "mimetype": "application/julia",
   "name": "julia",
   "version": "1.8.5"
  }
 },
 "nbformat": 4,
 "nbformat_minor": 5
}
