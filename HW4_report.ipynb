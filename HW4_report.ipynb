{
 "cells": [
  {
   "attachments": {},
   "cell_type": "markdown",
   "id": "b5da0295",
   "metadata": {},
   "source": [
    "# Homework 4\n",
    "\n",
    "\n",
    "By Andrew Sos & Tim Keegan"
   ]
  },
  {
   "attachments": {},
   "cell_type": "markdown",
   "id": "9775c657",
   "metadata": {},
   "source": [
    "# Introduction\n",
    "In homework 4, we will be looking at interpolation of polynomials and curve fitting equations. We will preform a regression analysis so it creates a linear combination of hermite polynomails. Using input data, we will use the hermite polynomail matrix and create a regression analysis when m=3. Additionally, we will make an optimization model for a response surface for a given equation. Overall, This homework focuses on the preformance of regression and interpolation polynomails showing how they are applicable to a variety of equations in interpretations of data."
   ]
  },
  {
   "attachments": {},
   "cell_type": "markdown",
   "id": "f34c3d73",
   "metadata": {},
   "source": [
    "## Question 1\n",
    "\n",
    "In this assignment, we are tasked with performing regression using the Hermite polynomials. \n",
    "\n",
    "Given the input data $\\{x_k\\}_{k=1}^n$ and $\\{f_k = f(x_k)\\}_{k=1}^n$, we must to find the coefficients $\\{a_j\\}_{j=1}^m$ such that the linear combination of [the Hermite polynomials]\n",
    "$$\n",
    "    \\sum_{j=1}^{m} a_j H_{j-1}(x)\n",
    "$$\n",
    " approximates the input data.  We are tasked with reformulating the least square error minimization in matrix form:\n",
    "\n",
    "\n",
    "$$\n",
    "    error^2 = \\sum_{k=1}^n \\left(\\sum_{j=1}^m a_j H_{j - 1}(x_k) - f_k\\right)^2 \\to \\min.\n",
    "$$"
   ]
  },
  {
   "attachments": {},
   "cell_type": "markdown",
   "id": "febb168a",
   "metadata": {},
   "source": [
    "Using the least squared error method with the hermite polynomail we would want the ( j-1) value of H\n",
    "$$\n",
    "\\sum_{j=1}^m a_j H_{j-1}( x_{k})\n",
    "$$\n",
    "\n",
    "An a matrix with a of m\n",
    "$$\n",
    "\\begin{pmatrix}\n",
    "    a_1 \\\\\n",
    "    a_2 \\\\\n",
    "    \\vdots \\\\\n",
    "    a_m \n",
    "\\end{pmatrix}\n",
    "$$\n",
    "\n",
    "and a f matching the n value which corresponds to the following matrix\n",
    "$$\n",
    "-\\begin{pmatrix}\n",
    "    f_1 \\\\\n",
    "    f_2 \\\\\n",
    "    \\vdots \\\\\n",
    "    f_k \n",
    "\\end{pmatrix}\n",
    "$$\n",
    "\n",
    "Combining all these matrices together based of the least squared error minimization would give the following matrix squared:"
   ]
  },
  {
   "attachments": {},
   "cell_type": "markdown",
   "id": "5a7cf7ca",
   "metadata": {},
   "source": [
    "$$\n",
    "error^2 = \\left|\n",
    "    \\underbrace{\\left\\{\\begin{pmatrix}\n",
    "    1 & H_1(x_1) & H_2(x_1) & \\ldots & H_{m-1}(x_1) \\\\\n",
    "    1 & H_1(x_2) & H_2(x_2) & \\ldots & H_{m-1}(x_2) \\\\\n",
    "    \\vdots & \\vdots & \\vdots & \\ddots & \\vdots \\\\\n",
    "    1 & H_1(x_n) & H_2(x_n) & \\ldots & H_{m-1}(x_n) \\\\\n",
    "\\end{pmatrix}\\right.}\n",
    "\\begin{pmatrix}\n",
    "    a_1 \\\\\n",
    "    a_2 \\\\\n",
    "    \\vdots \\\\\n",
    "    a_m \n",
    "\\end{pmatrix}\n",
    "-\n",
    "\\begin{pmatrix}\n",
    "    f_1 \\\\\n",
    "    f_2 \\\\\n",
    "    \\vdots \\\\\n",
    "    f_n \n",
    "\\end{pmatrix}\n",
    "\\right|_2^2 \\to \\min,\n",
    "$$"
   ]
  },
  {
   "cell_type": "code",
   "execution_count": 3,
   "id": "47821912",
   "metadata": {},
   "outputs": [
    {
     "data": {
      "text/plain": [
       "poly_regression (generic function with 1 method)"
      ]
     },
     "execution_count": 3,
     "metadata": {},
     "output_type": "execute_result"
    }
   ],
   "source": [
    "\n",
    "function poly_regression(x_given, f_given, m::Int, x_eval)\n",
    "    \n",
    "    # consistency check\n",
    "    @assert length(x_given) == length(f_given)\n",
    "    \n",
    "    n = length(x_given)\n",
    "    \n",
    "    # Step 1: get matrix X\n",
    "    X = ones(n, m)\n",
    "    \n",
    "    for j = 2:m\n",
    "        X[:, j] = x_given .* X[:, j - 1]\n",
    "        # this equivalent to\n",
    "        # X[:, j] = x_given .^ (j - 1)\n",
    "    end\n",
    "        \n",
    "    # Step 2: get a's\n",
    "    a = X \\ f_given\n",
    "    \n",
    "    println(a)\n",
    "    \n",
    "    # Step 3: Perform regression\n",
    "    P = zeros(length(x_eval))\n",
    "    \n",
    "    x_evalʲ⁻¹ = ones(length(x_eval))\n",
    "    \n",
    "    for j = 1:m\n",
    "        P += a[j] *  x_evalʲ⁻¹\n",
    "        x_evalʲ⁻¹ .*= x_eval\n",
    "    end\n",
    "    \n",
    "    return P\n",
    "end"
   ]
  },
  {
   "cell_type": "markdown",
   "id": "564587f4",
   "metadata": {},
   "source": [
    "## Question 2\n",
    "\n",
    "Using the input data from the class"
   ]
  },
  {
   "cell_type": "code",
   "execution_count": 13,
   "id": "51ae4067",
   "metadata": {},
   "outputs": [],
   "source": [
    "using Random\n",
    "Random.seed!(926491)\n",
    "\n",
    "f_exact(x) = x ^ 2\n",
    "\n",
    "x_given = range(-2, 2, 10)\n",
    "f_given = f_exact.(x_given) + randn(length(x_given));"
   ]
  },
  {
   "cell_type": "markdown",
   "id": "473d5e1b",
   "metadata": {},
   "source": [
    "and the formulation obtained in the previous question, numericaly perform the regression with the Hermite polynomials with $m=3$ and visualize the results."
   ]
  },
  {
   "attachments": {},
   "cell_type": "markdown",
   "id": "a0fdf1ef",
   "metadata": {},
   "source": [
    "Using the the matrix code contained in question 1, we are able to visualize the values of the random data with the graph below. We are then further able to create a regression analysis of this graph with a m value of 3 which is shown below. This regression analysis shows the best fit line for this data."
   ]
  },
  {
   "cell_type": "code",
   "execution_count": 17,
   "id": "fda8ba65",
   "metadata": {},
   "outputs": [
    {
     "data": {
      "image/png": "[encoded data removed]",
      "text/plain": [
       "Figure(PyObject <Figure size 640x480 with 1 Axes>)"
      ]
     },
     "metadata": {},
     "output_type": "display_data"
    },
    {
     "data": {
      "text/plain": [
       "PyObject <matplotlib.collections.PathCollection object at 0x00000233C0A9EDA0>"
      ]
     },
     "execution_count": 17,
     "metadata": {},
     "output_type": "execute_result"
    }
   ],
   "source": [
    "title(\"Provided Data\")\n",
    "scatter(x_given, f_given,color=\"Black\")"
   ]
  },
  {
   "cell_type": "code",
   "execution_count": 15,
   "id": "74a22f54",
   "metadata": {},
   "outputs": [
    {
     "name": "stdout",
     "output_type": "stream",
     "text": [
      "[0.42142829678736815, -0.1583274431119579, 0.6705629480370494]\n"
     ]
    },
    {
     "data": {
      "image/png": "[encoded data removed]",
      "text/plain": [
       "Figure(PyObject <Figure size 640x480 with 1 Axes>)"
      ]
     },
     "metadata": {},
     "output_type": "display_data"
    },
    {
     "data": {
      "text/plain": [
       "PyObject <matplotlib.legend.Legend object at 0x00000233C0962EC0>"
      ]
     },
     "execution_count": 15,
     "metadata": {},
     "output_type": "execute_result"
    }
   ],
   "source": [
    "using PyPlot\n",
    "x_set=range(-2, 2, 100)\n",
    "reg_vals=poly_regression(x_given, f_given, 3, x_set)\n",
    "title(\"Regression, m=3\")\n",
    "scatter(x_given,f_given,label=\"Provided Dataset\",color=\"Black\")\n",
    "plot(x_set,reg_vals,label=\"Hermite Regression m=3\",linestyle=\"--\")\n",
    "legend()"
   ]
  },
  {
   "attachments": {},
   "cell_type": "markdown",
   "id": "6a6386fa",
   "metadata": {},
   "source": [
    "## Question 3: extra credit for 3170, required for 6170\n",
    "\n",
    "In this problem we generalize the polynomial regression to two dimensions. Assuming the input data is $\\{(x_k, y_k)\\}_{k=1}^n$ and $\\{f_k\\}_{k=1}^n$, we are tasked to find the quadratic polynomial in the variables $x$ and $y$, in matrix form.\n",
    "\n",
    "$$\n",
    "    f(x, y) = a_1 + x a_2 + y a_3 +  x ^2  a_4 + x y a_5 + y ^ 2 a_6,\n",
    "$$\n",
    "\n",
    "such that $f(x_k, y_k) \\approx f_k$ in the least-squared error sense."
   ]
  },
  {
   "attachments": {},
   "cell_type": "markdown",
   "id": "49cc3af5",
   "metadata": {},
   "source": [
    "In this problem, we are tasked with creating the matrix form of the polynomial regression for a quadratic polynomial with two independent variables (x and y).  This is often referred to as the optimization model for response surface.  The general equation for this is the following:\n",
    "$$\n",
    "    f(x₁, x₂) \\approx fₖ = a_{00} + x₁a_{10} + x₂ a_{01} +  x₁ ^2  a_{2 0} + x₁ x₂ a₁₂ + x₂ ^ 2 a_{0 2} + \\epsilon,\n",
    "$$\n",
    "In this equation, x₁ and x₂ represent the two independent variables and $\\epsilon$ represents the error in the approximation.\n",
    "\n",
    "This can be represented by the following summation:\n",
    "$$\n",
    "    fₖ = aₒₒ + \\sum_{i=1}^{m} a_i x_i + \\sum_{i=1}^{m} aᵢᵢ x_i ^2 + \\sum_{i=1}^{m-1} \\sum_{j=i+1}^{m} aᵢⱼ x_i x_j + \\epsilon \n",
    "$$\n",
    "This can be approximated to the following where N represents the degree of polynomial:\n",
    "$$\n",
    "   fₐₚₚ = \\sum_{i=0}^{N} \\sum_{j=0}^{N} aᵢⱼ x₁^i x₂^j\n",
    "$$\n",
    "Applying our conditions, we obtain the following:\n",
    "$$\n",
    "    fₐₚₚ = \\sum_{i=0}^{N} \\sum_{j=0}^{N} aᵢⱼ x^i y^j\n",
    "$$\n",
    "This can be transformed to product form in the following equation:\n",
    "$$\n",
    "    fₐₚₚ = \\bf X ^T A \\bf X\n",
    "$$\n",
    "In this equation $$ \\bf X = \\begin{pmatrix} x \\\\ y \\\\ 1 \\end{pmatrix} $$\n",
    "\n",
    "Also, $$ A = \\begin{pmatrix} a_{0 0} & a_{0 1} & a_{0 2} \\\\ a_{1 0} & a_{1 1} & a₁₂ \\\\ a_{20} & a₂₁ & 0 \\end{pmatrix} $$\n",
    "\n",
    "This can therefore be combined to the following equation:\n",
    "$$\n",
    "    fₐₚₚ = (x, \\ y, \\ 1) * \\begin{pmatrix} a_{0 0} & a_{0 1} & a_{0 2} \\\\ a_{1 0} & a₁₁ & a₁₂ \\\\ a_{2 0} & a₂₁ & 0 \\end{pmatrix} * \\begin{pmatrix} x \\\\ y \\\\ 1 \\end{pmatrix}\n",
    "$$"
   ]
  },
  {
   "attachments": {},
   "cell_type": "markdown",
   "id": "0baac0c7",
   "metadata": {},
   "source": [
    "This can then be applied to the following general error reducing formula:\n",
    "$$ \n",
    "    error^2 = \\sum_{k=1}^{n}\\left\\| fₐₚₚ₍ₖ₎-fₖ \\right\\| ^ 2 \\to \\min\n",
    "$$\n",
    "Therefore, the error minimizing formula is the following:\n",
    "$$\n",
    "error^2 =  \\left\\|  (x, \\ y, \\ 1) * \\begin{pmatrix} aₒₒ & aₒ₁ & aₒ₂ \\\\ a₁ₒ & a₁₁ & a₁₂ \\\\ a₂ₒ & a₂₁ & 0 \\end{pmatrix} * \\begin{pmatrix} x \\\\ y \\\\ 1 \\end{pmatrix} - fₖ \\right\\|_2^2 \\to \\min\n",
    "$$"
   ]
  },
  {
   "attachments": {},
   "cell_type": "markdown",
   "id": "e045b2a4",
   "metadata": {},
   "source": [
    "## Conclusion\n",
    "\n",
    "Overall, we were able to successfully create a matrix equation for a hermite polynomail. This matrix equation was further used to be analysed by a random data set. This random data set was plugged into the matrix equation and a regression analyses was preformed on it when m=3. Finally, an  optimization model for response surface was found for a polynomail and a matrix was derived in the least squared error sense. Overall, this homework showed the successful conduction of matrix creation and analyses using the least squared error method."
   ]
  }
 ],
 "metadata": {
  "kernelspec": {
   "display_name": "Julia 1.8.5",
   "language": "julia",
   "name": "julia-1.8"
  },
  "language_info": {
   "file_extension": ".jl",
   "mimetype": "application/julia",
   "name": "julia",
   "version": "1.8.5"
  }
 },
 "nbformat": 4,
 "nbformat_minor": 5
}
