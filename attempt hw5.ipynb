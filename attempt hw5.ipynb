{
 "cells": [
  {
   "cell_type": "code",
   "execution_count": 10,
   "metadata": {},
   "outputs": [
    {
     "ename": "LoadError",
     "evalue": "MethodError: no method matching -(::Matrix{ComplexF64}, ::Float64)\nFor element-wise subtraction, use broadcasting with dot syntax: array .- scalar\n\u001b[0mClosest candidates are:\n\u001b[0m  -(\u001b[91m::T\u001b[39m, ::T) where T<:Union{Float16, Float32, Float64} at float.jl:384\n\u001b[0m  -(\u001b[91m::AbstractGray{Bool}\u001b[39m, ::Number) at C:\\Users\\tkeeg\\.julia\\packages\\ColorVectorSpace\\QI5vM\\src\\ColorVectorSpace.jl:342\n\u001b[0m  -(\u001b[91m::AbstractGray\u001b[39m, ::Number) at C:\\Users\\tkeeg\\.julia\\packages\\ColorVectorSpace\\QI5vM\\src\\ColorVectorSpace.jl:340\n\u001b[0m  ...",
     "output_type": "error",
     "traceback": [
      "MethodError: no method matching -(::Matrix{ComplexF64}, ::Float64)\nFor element-wise subtraction, use broadcasting with dot syntax: array .- scalar\n\u001b[0mClosest candidates are:\n\u001b[0m  -(\u001b[91m::T\u001b[39m, ::T) where T<:Union{Float16, Float32, Float64} at float.jl:384\n\u001b[0m  -(\u001b[91m::AbstractGray{Bool}\u001b[39m, ::Number) at C:\\Users\\tkeeg\\.julia\\packages\\ColorVectorSpace\\QI5vM\\src\\ColorVectorSpace.jl:342\n\u001b[0m  -(\u001b[91m::AbstractGray\u001b[39m, ::Number) at C:\\Users\\tkeeg\\.julia\\packages\\ColorVectorSpace\\QI5vM\\src\\ColorVectorSpace.jl:340\n\u001b[0m  ...",
      "",
      "Stacktrace:",
      " [1] f(z::Matrix{ComplexF64})",
      "   @ Main .\\In[10]:28",
      " [2] newton_fractal(f::typeof(f), df::typeof(df), maxiter::Int64, tol::Float64, roots::Vector{ComplexF64})",
      "   @ Main .\\In[10]:15",
      " [3] newton_fractal(f::Function, df::Function)",
      "   @ Main .\\In[10]:5",
      " [4] top-level scope",
      "   @ In[10]:34"
     ]
    }
   ],
   "source": [
    "using Plots\n",
    "\n",
    "function newton_fractal(f, df, maxiter=50, tol=1e-6, roots=[1.0, -1.0, im, -im])\n",
    "    # generate a meshgrid over the complex plane\n",
    "    x = range(-2, stop=2, length=800)\n",
    "    y = range(-2, stop=2, length=800)\n",
    "    z = [x + im*y' for y in y, x in x]\n",
    "    \n",
    "    # initialize arrays to store the iteration count and the root index for each pixel\n",
    "    count = zeros(Int, size(z))\n",
    "    root_index = zeros(Int, size(z))\n",
    "    \n",
    "    # apply Newton's method to each pixel\n",
    "    for i in 1:maxiter\n",
    "        z = z .- f(z) ./ df(z)\n",
    "        for j in 1:length(roots)\n",
    "            mask = (count .== 0) .& (abs(z - roots[j]) .< tol)\n",
    "            count[mask] .= i\n",
    "            root_index[mask] .= j\n",
    "        end\n",
    "    end\n",
    "    \n",
    "    # plot the fractal\n",
    "    plot(z, count, seriestype=:heatmap, color=:rainbow, c=:blues, legend=:none)\n",
    "end\n",
    "\n",
    "# define the function whose roots we want to find\n",
    "f(z) = z^3 - 1.0\n",
    "\n",
    "# define the derivative of the function\n",
    "df(z) = 3z^2\n",
    "\n",
    "# generate the fractal\n",
    "newton_fractal(f, df)"
   ]
  }
 ],
 "metadata": {
  "kernelspec": {
   "display_name": "Julia 1.8.5",
   "language": "julia",
   "name": "julia-1.8"
  },
  "language_info": {
   "file_extension": ".jl",
   "mimetype": "application/julia",
   "name": "julia",
   "version": "1.8.5"
  },
  "orig_nbformat": 4
 },
 "nbformat": 4,
 "nbformat_minor": 2
}
